{
 "cells": [
  {
   "cell_type": "markdown",
   "id": "a394b735",
   "metadata": {},
   "source": [
    "# <center> 7.优化器 </center>"
   ]
  },
  {
   "cell_type": "code",
   "execution_count": 1,
   "id": "b153231d",
   "metadata": {},
   "outputs": [],
   "source": [
    "import numpy as np\n",
    "from keras.datasets import mnist  # 手写数字识别\n",
    "from keras.utils import np_utils # keras中numpy工具包\n",
    "from keras.models import Sequential\n",
    "from keras.layers import Dense\n",
    "from keras.optimizers import SGD, Adam  # 优化器"
   ]
  },
  {
   "cell_type": "code",
   "execution_count": 2,
   "id": "d55eb0e0",
   "metadata": {},
   "outputs": [
    {
     "name": "stdout",
     "output_type": "stream",
     "text": [
      "x_shape: (60000, 28, 28)\n",
      "y_shape: (60000,)\n"
     ]
    }
   ],
   "source": [
    "# 加载数据集   网上下载数据集\n",
    "(x_train, y_train), (x_test, y_test) = mnist.load_data()\n",
    "\n",
    "# 打印数据格式\n",
    "print('x_shape:', x_train.shape)\n",
    "print('y_shape:', y_train.shape)"
   ]
  },
  {
   "cell_type": "code",
   "execution_count": 3,
   "id": "05975c0d",
   "metadata": {},
   "outputs": [],
   "source": [
    "# 数据格式转换\n",
    "x_train = x_train.reshape(x_train.shape[0], -1) / 255.0\n",
    "x_test = x_test.reshape(x_test.shape[0], -1) / 255.0\n",
    "\n",
    "# 换为one-hot编码\n",
    "y_train = np_utils.to_categorical(y_train, num_classes=10) # 分类种类\n",
    "y_test = np_utils.to_categorical(y_test, num_classes=10) # 分类种类"
   ]
  },
  {
   "cell_type": "code",
   "execution_count": 4,
   "id": "e848466d",
   "metadata": {},
   "outputs": [],
   "source": [
    "# 创建模型: 输入784个神经元 输出10个神经元\n",
    "model = Sequential([\n",
    "    Dense(units=10, input_dim=784, bias_initializer='one', activation='softmax')\n",
    "])\n",
    "\n",
    "# 定义优化器\n",
    "sgd = SGD(lr=0.2)\n",
    "adam = Adam(lr=0.001) # 速度较快\n",
    "\n",
    "# 编译模型  metrics计算指标\n",
    "# loss 使用交叉熵 categorical_crossentropy   收敛速度较快，适合分类问题\n",
    "model.compile( \n",
    "    optimizer=adam,\n",
    "    loss='categorical_crossentropy',\n",
    "    metrics=['accuracy']\n",
    ")"
   ]
  },
  {
   "cell_type": "code",
   "execution_count": 5,
   "id": "e8a35dc7",
   "metadata": {},
   "outputs": [
    {
     "name": "stdout",
     "output_type": "stream",
     "text": [
      "Epoch 1/10\n",
      "60000/60000 [==============================] - 6s 106us/step - loss: 0.4650 - accuracy: 0.8778\n",
      "Epoch 2/10\n",
      "60000/60000 [==============================] - 11s 181us/step - loss: 0.3035 - accuracy: 0.9147\n",
      "Epoch 3/10\n",
      "60000/60000 [==============================] - 5s 79us/step - loss: 0.2832 - accuracy: 0.9211\n",
      "Epoch 4/10\n",
      "60000/60000 [==============================] - 3s 46us/step - loss: 0.2734 - accuracy: 0.9234\n",
      "Epoch 5/10\n",
      "60000/60000 [==============================] - 4s 71us/step - loss: 0.2667 - accuracy: 0.9256\n",
      "Epoch 6/10\n",
      "60000/60000 [==============================] - 3s 55us/step - loss: 0.2618 - accuracy: 0.9270\n",
      "Epoch 7/10\n",
      "60000/60000 [==============================] - 3s 47us/step - loss: 0.2585 - accuracy: 0.9279\n",
      "Epoch 8/10\n",
      "60000/60000 [==============================] - 5s 75us/step - loss: 0.2554 - accuracy: 0.9298\n",
      "Epoch 9/10\n",
      "60000/60000 [==============================] - 10s 164us/step - loss: 0.2531 - accuracy: 0.9303\n",
      "Epoch 10/10\n",
      "60000/60000 [==============================] - 5s 91us/step - loss: 0.2513 - accuracy: 0.9296\n"
     ]
    },
    {
     "data": {
      "text/plain": [
       "<keras.callbacks.callbacks.History at 0x27e42ab8088>"
      ]
     },
     "execution_count": 5,
     "metadata": {},
     "output_type": "execute_result"
    }
   ],
   "source": [
    "# 训练模型\n",
    "# batch_size: 每个batch中32张图片 \n",
    "# epochs:迭代周期\n",
    "# 模型中有60000张图片，每次会拿到32张进行训练，共训练60000/32次，这是一个周期\n",
    "model.fit(x_train, y_train, batch_size=32, epochs=10) # 60000/32次 训练周期"
   ]
  },
  {
   "cell_type": "code",
   "execution_count": 6,
   "id": "c314ea32",
   "metadata": {},
   "outputs": [
    {
     "name": "stdout",
     "output_type": "stream",
     "text": [
      "10000/10000 [==============================] - 0s 10us/step\n",
      "\n",
      "test loss:  0.2657147786721587\n",
      "accuracy:  0.9261000156402588\n"
     ]
    }
   ],
   "source": [
    "# 评估模型\n",
    "loss, accuracy = model.evaluate(x_test, y_test)\n",
    "print('\\ntest loss: ', loss)\n",
    "print('accuracy: ', accuracy)"
   ]
  }
 ],
 "metadata": {
  "kernelspec": {
   "display_name": "Python 3 (ipykernel)",
   "language": "python",
   "name": "python3"
  },
  "language_info": {
   "codemirror_mode": {
    "name": "ipython",
    "version": 3
   },
   "file_extension": ".py",
   "mimetype": "text/x-python",
   "name": "python",
   "nbconvert_exporter": "python",
   "pygments_lexer": "ipython3",
   "version": "3.7.13"
  }
 },
 "nbformat": 4,
 "nbformat_minor": 5
}

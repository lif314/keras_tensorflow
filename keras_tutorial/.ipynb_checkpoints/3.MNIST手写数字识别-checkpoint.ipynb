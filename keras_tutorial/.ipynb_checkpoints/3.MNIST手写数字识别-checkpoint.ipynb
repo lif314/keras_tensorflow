{
 "cells": [
  {
   "cell_type": "markdown",
   "id": "f48ce6cd",
   "metadata": {},
   "source": [
    "# <center> 3.MNIST手写数字识别 </center>"
   ]
  },
  {
   "cell_type": "code",
   "execution_count": 2,
   "id": "645330e5",
   "metadata": {},
   "outputs": [],
   "source": [
    "import numpy as np\n",
    "from keras.datasets import mnist  # 手写数字识别\n",
    "from keras.utils import np_utils # keras中numpy工具包\n",
    "from keras.models import Sequential\n",
    "from keras.layers import Dense\n",
    "from keras.optimizers import SGD"
   ]
  },
  {
   "cell_type": "code",
   "execution_count": 3,
   "id": "905cf0ad",
   "metadata": {},
   "outputs": [
    {
     "name": "stdout",
     "output_type": "stream",
     "text": [
      "Downloading data from https://s3.amazonaws.com/img-datasets/mnist.npz\n",
      "11493376/11490434 [==============================] - 4s 0us/step\n",
      "x_shape: (60000, 28, 28)\n",
      "y_shape: (60000,)\n"
     ]
    }
   ],
   "source": [
    "# 加载数据集   网上下载数据集\n",
    "(x_train, y_train), (x_test, y_test) = mnist.load_data()\n",
    "\n",
    "# 打印数据格式\n",
    "print('x_shape:', x_train.shape)\n",
    "print('y_shape:', y_train.shape)"
   ]
  },
  {
   "cell_type": "code",
   "execution_count": 4,
   "id": "abc9ce3c",
   "metadata": {},
   "outputs": [],
   "source": [
    "# 数据格式转换\n",
    "x_train = x_train.reshape(x_train.shape[0], -1) / 255.0 # 行数 60000， 列数784 -1表示未知 归一化处理\n",
    "x_test = x_test.reshape(x_test.shape[0], -1) / 255.0\n",
    "# 换为one-hot编码\n",
    "y_train = np_utils.to_categorical(y_train, num_classes=10) # 分类种类\n",
    "y_test = np_utils.to_categorical(y_test, num_classes=10) # 分类种类"
   ]
  },
  {
   "cell_type": "code",
   "execution_count": 6,
   "id": "78a48844",
   "metadata": {},
   "outputs": [],
   "source": [
    "# 创建模型: 输入784个神经元 输出10个神经元\n",
    "model = Sequential([\n",
    "    Dense(units=10, input_dim=784, bias_initializer='one', activation='softmax')\n",
    "])\n",
    "\n",
    "# 定义优化器\n",
    "sgd = SGD(lr=0.2)\n",
    "\n",
    "# 编译模型  metrics计算指标\n",
    "model.compile(\n",
    "    optimizer=sgd,\n",
    "    loss='mse',\n",
    "    metrics=['accuracy']\n",
    ")\n",
    "# loss 默认显示"
   ]
  },
  {
   "cell_type": "code",
   "execution_count": 8,
   "id": "1582eabe",
   "metadata": {},
   "outputs": [
    {
     "name": "stdout",
     "output_type": "stream",
     "text": [
      "Epoch 1/10\n",
      "60000/60000 [==============================] - 1s 15us/step - loss: 0.0398 - accuracy: 0.7491\n",
      "Epoch 2/10\n",
      "60000/60000 [==============================] - 1s 15us/step - loss: 0.0206 - accuracy: 0.8797\n",
      "Epoch 3/10\n",
      "60000/60000 [==============================] - 1s 15us/step - loss: 0.0179 - accuracy: 0.8921\n",
      "Epoch 4/10\n",
      "60000/60000 [==============================] - 1s 15us/step - loss: 0.0165 - accuracy: 0.8995\n",
      "Epoch 5/10\n",
      "60000/60000 [==============================] - 1s 15us/step - loss: 0.0157 - accuracy: 0.9040\n",
      "Epoch 6/10\n",
      "60000/60000 [==============================] - 1s 15us/step - loss: 0.0151 - accuracy: 0.9068\n",
      "Epoch 7/10\n",
      "60000/60000 [==============================] - 3s 47us/step - loss: 0.0146 - accuracy: 0.9094\n",
      "Epoch 8/10\n",
      "60000/60000 [==============================] - 1s 15us/step - loss: 0.0143 - accuracy: 0.9109\n",
      "Epoch 9/10\n",
      "60000/60000 [==============================] - 1s 15us/step - loss: 0.0140 - accuracy: 0.9130\n",
      "Epoch 10/10\n",
      "60000/60000 [==============================] - 1s 15us/step - loss: 0.0137 - accuracy: 0.9137\n"
     ]
    },
    {
     "data": {
      "text/plain": [
       "<keras.callbacks.callbacks.History at 0x1a0677d7448>"
      ]
     },
     "execution_count": 8,
     "metadata": {},
     "output_type": "execute_result"
    }
   ],
   "source": [
    "# 训练模型\n",
    "# batch_size: 每个batch中32张图片 \n",
    "# epochs:迭代周期\n",
    "# 模型中有60000张图片，每次会拿到32张进行训练，共训练60000/32次，这是一个周期\n",
    "model.fit(x_train, y_train, batch_size=32, epochs=10) # 60000/32次 训练周期"
   ]
  },
  {
   "cell_type": "code",
   "execution_count": 9,
   "id": "62c723c0",
   "metadata": {},
   "outputs": [
    {
     "name": "stdout",
     "output_type": "stream",
     "text": [
      "10000/10000 [==============================] - 0s 9us/step\n",
      "\n",
      "test loss:  0.01302480645859614\n",
      "accuracy:  0.9182999730110168\n"
     ]
    }
   ],
   "source": [
    "# 评估模型\n",
    "loss, accuracy = model.evaluate(x_test, y_test)\n",
    "print('\\ntest loss: ', loss)\n",
    "print('accuracy: ', accuracy)"
   ]
  },
  {
   "cell_type": "code",
   "execution_count": null,
   "id": "3cc8806a",
   "metadata": {},
   "outputs": [],
   "source": []
  },
  {
   "cell_type": "code",
   "execution_count": null,
   "id": "a3f14f3d",
   "metadata": {},
   "outputs": [],
   "source": []
  },
  {
   "cell_type": "code",
   "execution_count": null,
   "id": "90dacd5f",
   "metadata": {},
   "outputs": [],
   "source": []
  },
  {
   "cell_type": "code",
   "execution_count": null,
   "id": "92b136f0",
   "metadata": {},
   "outputs": [],
   "source": []
  }
 ],
 "metadata": {
  "kernelspec": {
   "display_name": "Python 3 (ipykernel)",
   "language": "python",
   "name": "python3"
  },
  "language_info": {
   "codemirror_mode": {
    "name": "ipython",
    "version": 3
   },
   "file_extension": ".py",
   "mimetype": "text/x-python",
   "name": "python",
   "nbconvert_exporter": "python",
   "pygments_lexer": "ipython3",
   "version": "3.7.13"
  }
 },
 "nbformat": 4,
 "nbformat_minor": 5
}

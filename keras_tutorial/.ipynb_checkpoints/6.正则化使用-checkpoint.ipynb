{
 "cells": [
  {
   "cell_type": "markdown",
   "id": "244ee146",
   "metadata": {},
   "source": [
    "# <center> 6.正则化使用 </center>"
   ]
  },
  {
   "cell_type": "code",
   "execution_count": 2,
   "id": "0a34d9f1",
   "metadata": {},
   "outputs": [],
   "source": [
    "import numpy as np\n",
    "from keras.datasets import mnist  # 手写数字识别\n",
    "from keras.utils import np_utils # keras中numpy工具包\n",
    "from keras.models import Sequential\n",
    "from keras.layers import Dense\n",
    "from keras.optimizers import SGD\n",
    "from keras.regularizers import l2  # L2正则化"
   ]
  },
  {
   "cell_type": "code",
   "execution_count": 3,
   "id": "88b014b3",
   "metadata": {},
   "outputs": [
    {
     "name": "stdout",
     "output_type": "stream",
     "text": [
      "Epoch 1/10\n",
      "60000/60000 [==============================] - 11s 180us/step - loss: 0.4390 - accuracy: 0.9121\n",
      "Epoch 2/10\n",
      "60000/60000 [==============================] - 11s 188us/step - loss: 0.2624 - accuracy: 0.9602\n",
      "Epoch 3/10\n",
      "60000/60000 [==============================] - 15s 249us/step - loss: 0.2176 - accuracy: 0.9696\n",
      "Epoch 4/10\n",
      "60000/60000 [==============================] - 7s 122us/step - loss: 0.1957 - accuracy: 0.9719\n",
      "Epoch 5/10\n",
      "60000/60000 [==============================] - 4s 75us/step - loss: 0.1792 - accuracy: 0.9764\n",
      "Epoch 6/10\n",
      "60000/60000 [==============================] - 18s 296us/step - loss: 0.1687 - accuracy: 0.9781\n",
      "Epoch 7/10\n",
      "60000/60000 [==============================] - 9s 155us/step - loss: 0.1618 - accuracy: 0.9794\n",
      "Epoch 8/10\n",
      "60000/60000 [==============================] - 11s 188us/step - loss: 0.1583 - accuracy: 0.9797\n",
      "Epoch 9/10\n",
      "60000/60000 [==============================] - 15s 249us/step - loss: 0.1535 - accuracy: 0.9803\n",
      "Epoch 10/10\n",
      "60000/60000 [==============================] - 6s 101us/step - loss: 0.1502 - accuracy: 0.9815\n",
      "10000/10000 [==============================] - 1s 95us/step\n",
      "\n",
      "test loss:  0.17953228776454924\n",
      "test accuracy:  0.9715999960899353\n",
      "60000/60000 [==============================] - 4s 74us/step\n",
      "\n",
      "train loss:  0.1485569502989451\n",
      "train accuracy:  0.9817500114440918\n"
     ]
    }
   ],
   "source": [
    "# 加载数据集   网上下载数据集\n",
    "(x_train, y_train), (x_test, y_test) = mnist.load_data()\n",
    "\n",
    "# 数据格式转换\n",
    "# 行数 60000， 列数784 -1表示未知 归一化处理\n",
    "x_test = x_test.reshape(x_test.shape[0], -1) / 255.0\n",
    "x_train = x_train.reshape(x_train.shape[0], -1) / 255.0 \n",
    "# 换为one-hot编码\n",
    "y_train = np_utils.to_categorical(y_train, num_classes=10) # 分类种类\n",
    "y_test = np_utils.to_categorical(y_test, num_classes=10) # 分类种类\n",
    "\n",
    "# 创建模型: 输入784个神经元 输出10个神经元\n",
    "# softmax: 输出层激活函数\n",
    "# 输入层 - 隐藏层(2层) - 输出层\n",
    "# 正则化  防止过拟合\n",
    "model = Sequential([\n",
    "    Dense(units=200, input_dim=784, bias_initializer='one', kernel_regularizer=l2(0.0003), activation='tanh'),\n",
    "    Dense(units=100, bias_initializer='one', activation='tanh', kernel_regularizer=l2(0.0003)),\n",
    "    Dense(units=10, bias_initializer='one', activation='softmax', kernel_regularizer=l2(0.0003))\n",
    "])\n",
    "\n",
    "# model.add(Dense(...))\n",
    "\n",
    "# 定义优化器\n",
    "sgd = SGD(lr=0.2)\n",
    "\n",
    "# 编译模型  metrics计算指标\n",
    "# loss 使用交叉熵 categorical_crossentropy   收敛速度较快，适合分类问题\n",
    "model.compile( \n",
    "    optimizer=sgd,\n",
    "    loss='categorical_crossentropy',\n",
    "    metrics=['accuracy']\n",
    ")\n",
    "\n",
    "model.fit(x_train, y_train, batch_size=32, epochs=10) # 60000/32次 训练周期\n",
    "\n",
    "# 评估模型\n",
    "loss, accuracy = model.evaluate(x_test, y_test)\n",
    "print('\\ntest loss: ', loss)\n",
    "print('test accuracy: ', accuracy)\n",
    "\n",
    "loss, accuracy = model.evaluate(x_train, y_train)\n",
    "print('\\ntrain loss: ', loss)\n",
    "print('train accuracy: ', accuracy)"
   ]
  },
  {
   "cell_type": "code",
   "execution_count": null,
   "id": "2da5ef2c",
   "metadata": {},
   "outputs": [],
   "source": []
  },
  {
   "cell_type": "code",
   "execution_count": null,
   "id": "1df9935b",
   "metadata": {},
   "outputs": [],
   "source": []
  }
 ],
 "metadata": {
  "kernelspec": {
   "display_name": "Python 3 (ipykernel)",
   "language": "python",
   "name": "python3"
  },
  "language_info": {
   "codemirror_mode": {
    "name": "ipython",
    "version": 3
   },
   "file_extension": ".py",
   "mimetype": "text/x-python",
   "name": "python",
   "nbconvert_exporter": "python",
   "pygments_lexer": "ipython3",
   "version": "3.7.13"
  }
 },
 "nbformat": 4,
 "nbformat_minor": 5
}

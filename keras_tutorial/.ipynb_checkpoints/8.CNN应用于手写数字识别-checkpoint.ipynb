{
 "cells": [
  {
   "cell_type": "markdown",
   "id": "5d90454d",
   "metadata": {},
   "source": [
    "# <center> 8.CNN应用于手写数字识别 </center>"
   ]
  },
  {
   "cell_type": "code",
   "execution_count": 6,
   "id": "2a0f8b87",
   "metadata": {},
   "outputs": [],
   "source": [
    "# 尝试在竞争对手中的前10%，只需要多走一步\n",
    "import numpy as np\n",
    "from keras.datasets import mnist  # 手写数字识别\n",
    "from keras.utils import np_utils # keras中numpy工具包\n",
    "from keras.models import Sequential\n",
    "# 二维卷积 数据池化  数据扁平化(reshape)\n",
    "from keras.layers import Dense, Convolution2D, MaxPooling2D, Flatten, Dropout\n",
    "from keras.optimizers import Adam  # 优化器"
   ]
  },
  {
   "cell_type": "code",
   "execution_count": 4,
   "id": "7397e5f9",
   "metadata": {},
   "outputs": [],
   "source": [
    "# 载入数据\n",
    "(x_train, y_train), (x_test, y_test) = mnist.load_data()\n",
    "# (60000,28,28) --> (60000, 28,28,1)  图片的深度(1表示黑白图片，3表示彩色图片的深度)\n",
    "x_train = x_train.reshape(-1, 28,28,1) / 255.0 # -1自动计算\n",
    "x_test = x_test.reshape(-1, 28,28,1) / 255.0 # 数据值是0-255，进行归一化\n",
    "\n",
    "# 换为one-hot格式\n",
    "y_train = np_utils.to_categorical(y_train, num_classes=10)\n",
    "y_test = np_utils.to_categorical(y_test, num_classes=10)"
   ]
  },
  {
   "cell_type": "code",
   "execution_count": 7,
   "id": "27e2efb5",
   "metadata": {},
   "outputs": [],
   "source": [
    "# 定义顺序模型\n",
    "model = Sequential()\n",
    "\n",
    "# 第一个卷积层\n",
    "# input_shape 输入数据的形状(平面)，只要在第一层进行设置\n",
    "\"\"\"\n",
    "    filters, 卷积核/滤波器的个数\n",
    "    kernel_size, 卷积核\n",
    "    strides=(1, 1),  步长\n",
    "    padding='valid',  填充方式\n",
    "    data_format=None,\n",
    "    dilation_rate=(1, 1),\n",
    "    activation=None,  激活函数\n",
    "    use_bias=True,\n",
    "    kernel_initializer='glorot_uniform',\n",
    "    bias_initializer='zeros',\n",
    "    kernel_regularizer=None,\n",
    "    bias_regularizer=None,\n",
    "    activity_regularizer=None,\n",
    "    kernel_constraint=None,\n",
    "    bias_constraint=None,\n",
    "\"\"\"\n",
    "model.add(\n",
    "    Convolution2D(\n",
    "        input_shape = (28,28,1),\n",
    "        filters = 32,\n",
    "        kernel_size = 5,\n",
    "        strides=1,\n",
    "        padding='same',\n",
    "        activation='relu'\n",
    "    )\n",
    ")\n",
    "\n",
    "\n",
    "# 第一个池化层:不需要输入形状 28*28 --> 28*28（same填充方式）\n",
    "model.add(\n",
    "    MaxPooling2D(\n",
    "        pool_size=2,\n",
    "        strides=2,\n",
    "        padding='same',\n",
    "    )\n",
    ")\n",
    "\n",
    "# 第二个卷积层 池化之后 28/2  28*28--> 14*14\n",
    "model.add(Convolution2D(64,5, strides=1, padding='same', activation='relu'))\n",
    "\n",
    "# 第二个池化层  14*14\n",
    "model.add(MaxPooling2D(2,2,'same'))\n",
    "\n",
    "# 把第二个池化层的输出扁平化为一维   7*7\n",
    "model.add(Flatten()) # 7*7  --> 64*7*7\n",
    "\n",
    "# 第一个全连接层 \n",
    "model.add(Dense(1024, activation='relu'))\n",
    "\n",
    "# Dropout防止过拟合\n",
    "model.add(Dropout(0.5))\n",
    "\n",
    "# 第2个全连接层\n",
    "model.add(Dense(10, activation='softmax'))\n",
    "\n",
    "# 定义优化器  loss 交叉熵\n",
    "adam = Adam(lr=1e-4)\n",
    "model.compile(optimizer=adam, loss='categorical_crossentropy', metrics=['accuracy'])"
   ]
  },
  {
   "cell_type": "code",
   "execution_count": null,
   "id": "baa675af",
   "metadata": {},
   "outputs": [
    {
     "name": "stdout",
     "output_type": "stream",
     "text": [
      "Epoch 1/10\n",
      "60000/60000 [==============================] - 375s 6ms/step - loss: 0.3199 - accuracy: 0.9105\n",
      "Epoch 2/10\n",
      "60000/60000 [==============================] - 379s 6ms/step - loss: 0.0900 - accuracy: 0.9725\n",
      "Epoch 3/10\n",
      "60000/60000 [==============================] - 397s 7ms/step - loss: 0.0633 - accuracy: 0.9804\n",
      "Epoch 4/10\n",
      "60000/60000 [==============================] - 372s 6ms/step - loss: 0.0503 - accuracy: 0.9845\n",
      "Epoch 5/10\n",
      "60000/60000 [==============================] - 399s 7ms/step - loss: 0.0416 - accuracy: 0.9875\n",
      "Epoch 6/10\n",
      "40768/60000 [===================>..........] - ETA: 1:59 - loss: 0.0369 - accuracy: 0.9890"
     ]
    }
   ],
   "source": [
    "# 训练模型\n",
    "model.fit(x_train, y_train, batch_size=64, epochs=10)\n",
    "\n",
    "# 评估模型\n",
    "loss, accuracy = model.evaluate(x_test, y_test)\n",
    "print('test loss: ', loss)\n",
    "print('test accuracy: ', accuracy)\n",
    "\n",
    "loss, accuracy = model.evaluate(x_train, y_train)\n",
    "print('train loss: ', loss)\n",
    "print('train accuracy: ', accuracy)"
   ]
  },
  {
   "cell_type": "code",
   "execution_count": null,
   "id": "504164b2",
   "metadata": {},
   "outputs": [],
   "source": []
  },
  {
   "cell_type": "code",
   "execution_count": null,
   "id": "df282ebd",
   "metadata": {},
   "outputs": [],
   "source": []
  }
 ],
 "metadata": {
  "kernelspec": {
   "display_name": "Python 3 (ipykernel)",
   "language": "python",
   "name": "python3"
  },
  "language_info": {
   "codemirror_mode": {
    "name": "ipython",
    "version": 3
   },
   "file_extension": ".py",
   "mimetype": "text/x-python",
   "name": "python",
   "nbconvert_exporter": "python",
   "pygments_lexer": "ipython3",
   "version": "3.7.13"
  }
 },
 "nbformat": 4,
 "nbformat_minor": 5
}

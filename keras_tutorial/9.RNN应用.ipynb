{
 "cells": [
  {
   "cell_type": "markdown",
   "id": "ebf46880",
   "metadata": {},
   "source": [
    "# <center> 9.RNN应用 </center>"
   ]
  },
  {
   "cell_type": "code",
   "execution_count": 1,
   "id": "a0d0936e",
   "metadata": {},
   "outputs": [
    {
     "name": "stderr",
     "output_type": "stream",
     "text": [
      "Using TensorFlow backend.\n"
     ]
    }
   ],
   "source": [
    "import numpy as np\n",
    "from keras.datasets import mnist\n",
    "from keras.utils import np_utils\n",
    "from keras.models import Sequential\n",
    "from keras.layers import Dense\n",
    "from keras.layers.recurrent import SimpleRNN  # LSTM GRU\n",
    "from keras.optimizers import Adam"
   ]
  },
  {
   "cell_type": "code",
   "execution_count": 2,
   "id": "4ccd47a4",
   "metadata": {},
   "outputs": [],
   "source": [
    "# 一张图片是28个序列，一个序列长度是28\n",
    "# 数据长度 一行28个元素\n",
    "input_size = 28\n",
    "# 序列长度 一共有28行\n",
    "time_steps = 28\n",
    "# 隐藏层cell个数 \n",
    "cell_size = 50"
   ]
  },
  {
   "cell_type": "code",
   "execution_count": 3,
   "id": "937819d0",
   "metadata": {},
   "outputs": [],
   "source": [
    "# 载入数据\n",
    "(x_train, y_train), (x_test, y_test) = mnist.load_data()\n",
    "# (60000,28,28)  样本数 一个样本的序列  样本序列长度\n",
    "x_train = x_train / 255.0 \n",
    "x_test = x_test / 255.0 # 数据值是0-255，进行归一化\n",
    "\n",
    "# 换为one-hot格式\n",
    "y_train = np_utils.to_categorical(y_train, num_classes=10)\n",
    "y_test = np_utils.to_categorical(y_test, num_classes=10)"
   ]
  },
  {
   "cell_type": "code",
   "execution_count": 4,
   "id": "3363f3d4",
   "metadata": {},
   "outputs": [],
   "source": [
    "# 创建模型\n",
    "model = Sequential()\n",
    "\n",
    "# 循环神经网络\n",
    "model.add(SimpleRNN(\n",
    "    units = cell_size,  # 输出个数  输出到隐藏层 定义一个隐藏层\n",
    "    input_shape = (time_steps, input_size), # 输入\n",
    "))\n",
    "\n",
    "# 输出层\n",
    "model.add(Dense(10, activation='softmax'))\n",
    "\n",
    "# 定义优化器  loss 交叉熵\n",
    "adam = Adam(lr=1e-4)\n",
    "model.compile(optimizer=adam, loss='categorical_crossentropy', metrics=['accuracy'])"
   ]
  },
  {
   "cell_type": "code",
   "execution_count": 5,
   "id": "d9a50585",
   "metadata": {},
   "outputs": [
    {
     "name": "stdout",
     "output_type": "stream",
     "text": [
      "Epoch 1/10\n",
      "60000/60000 [==============================] - 13s 224us/step - loss: 1.3719 - accuracy: 0.5634\n",
      "Epoch 2/10\n",
      "60000/60000 [==============================] - 7s 119us/step - loss: 0.7934 - accuracy: 0.7603\n",
      "Epoch 3/10\n",
      "60000/60000 [==============================] - 12s 194us/step - loss: 0.6179 - accuracy: 0.8153\n",
      "Epoch 4/10\n",
      "60000/60000 [==============================] - 18s 301us/step - loss: 0.5217 - accuracy: 0.8467\n",
      "Epoch 5/10\n",
      "60000/60000 [==============================] - 3s 55us/step - loss: 0.4593 - accuracy: 0.8652\n",
      "Epoch 6/10\n",
      "60000/60000 [==============================] - 3s 55us/step - loss: 0.4151 - accuracy: 0.8781\n",
      "Epoch 7/10\n",
      "60000/60000 [==============================] - 7s 120us/step - loss: 0.3812 - accuracy: 0.8893\n",
      "Epoch 8/10\n",
      "60000/60000 [==============================] - 3s 55us/step - loss: 0.3529 - accuracy: 0.8977\n",
      "Epoch 9/10\n",
      "60000/60000 [==============================] - 5s 89us/step - loss: 0.3305 - accuracy: 0.9046\n",
      "Epoch 10/10\n",
      "60000/60000 [==============================] - 3s 56us/step - loss: 0.3098 - accuracy: 0.9122\n",
      "10000/10000 [==============================] - 0s 23us/step\n",
      "test loss:  0.3127397419810295\n",
      "test accuracy:  0.9104999899864197\n"
     ]
    }
   ],
   "source": [
    "# 训练模型\n",
    "model.fit(x_train, y_train, batch_size=32, epochs=10)\n",
    "\n",
    "# 评估模型\n",
    "loss, accuracy = model.evaluate(x_test, y_test)\n",
    "print('test loss: ', loss)\n",
    "print('test accuracy: ', accuracy)"
   ]
  }
 ],
 "metadata": {
  "kernelspec": {
   "display_name": "Python 3 (ipykernel)",
   "language": "python",
   "name": "python3"
  },
  "language_info": {
   "codemirror_mode": {
    "name": "ipython",
    "version": 3
   },
   "file_extension": ".py",
   "mimetype": "text/x-python",
   "name": "python",
   "nbconvert_exporter": "python",
   "pygments_lexer": "ipython3",
   "version": "3.7.13"
  }
 },
 "nbformat": 4,
 "nbformat_minor": 5
}

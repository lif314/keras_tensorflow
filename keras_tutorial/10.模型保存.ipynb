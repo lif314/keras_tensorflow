{
 "cells": [
  {
   "cell_type": "markdown",
   "id": "f48ce6cd",
   "metadata": {},
   "source": [
    "# <center> 10.模型保存 </center>"
   ]
  },
  {
   "cell_type": "code",
   "execution_count": 1,
   "id": "645330e5",
   "metadata": {},
   "outputs": [
    {
     "name": "stderr",
     "output_type": "stream",
     "text": [
      "Using TensorFlow backend.\n"
     ]
    }
   ],
   "source": [
    "import numpy as np\n",
    "from keras.datasets import mnist  # 手写数字识别\n",
    "from keras.utils import np_utils # keras中numpy工具包\n",
    "from keras.models import Sequential\n",
    "from keras.layers import Dense\n",
    "from keras.optimizers import SGD"
   ]
  },
  {
   "cell_type": "code",
   "execution_count": 2,
   "id": "905cf0ad",
   "metadata": {},
   "outputs": [
    {
     "name": "stdout",
     "output_type": "stream",
     "text": [
      "x_shape: (60000, 28, 28)\n",
      "y_shape: (60000,)\n"
     ]
    }
   ],
   "source": [
    "# 加载数据集   网上下载数据集\n",
    "(x_train, y_train), (x_test, y_test) = mnist.load_data()\n",
    "\n",
    "# 打印数据格式\n",
    "print('x_shape:', x_train.shape)\n",
    "print('y_shape:', y_train.shape)"
   ]
  },
  {
   "cell_type": "code",
   "execution_count": 3,
   "id": "abc9ce3c",
   "metadata": {},
   "outputs": [],
   "source": [
    "# 数据格式转换\n",
    "x_train = x_train.reshape(x_train.shape[0], -1) / 255.0 # 行数 60000， 列数784 -1表示未知 归一化处理\n",
    "x_test = x_test.reshape(x_test.shape[0], -1) / 255.0\n",
    "# 换为one-hot编码\n",
    "y_train = np_utils.to_categorical(y_train, num_classes=10) # 分类种类\n",
    "y_test = np_utils.to_categorical(y_test, num_classes=10) # 分类种类"
   ]
  },
  {
   "cell_type": "code",
   "execution_count": 4,
   "id": "78a48844",
   "metadata": {},
   "outputs": [],
   "source": [
    "# 创建模型: 输入784个神经元 输出10个神经元\n",
    "model = Sequential([\n",
    "    Dense(units=10, input_dim=784, bias_initializer='one', activation='softmax')\n",
    "])\n",
    "\n",
    "# 定义优化器\n",
    "sgd = SGD(lr=0.2)\n",
    "\n",
    "# 编译模型  metrics计算指标\n",
    "model.compile(\n",
    "    optimizer=sgd,\n",
    "    loss='mse',\n",
    "    metrics=['accuracy']\n",
    ")\n",
    "# loss 默认显示"
   ]
  },
  {
   "cell_type": "code",
   "execution_count": 5,
   "id": "1582eabe",
   "metadata": {},
   "outputs": [
    {
     "name": "stdout",
     "output_type": "stream",
     "text": [
      "Epoch 1/10\n",
      "60000/60000 [==============================] - 1s 14us/step - loss: 0.0380 - accuracy: 0.7700\n",
      "Epoch 2/10\n",
      "60000/60000 [==============================] - 1s 14us/step - loss: 0.0203 - accuracy: 0.8820\n",
      "Epoch 3/10\n",
      "60000/60000 [==============================] - 1s 14us/step - loss: 0.0177 - accuracy: 0.8937\n",
      "Epoch 4/10\n",
      "60000/60000 [==============================] - 1s 14us/step - loss: 0.0164 - accuracy: 0.9006\n",
      "Epoch 5/10\n",
      "60000/60000 [==============================] - 1s 13us/step - loss: 0.0156 - accuracy: 0.9049\n",
      "Epoch 6/10\n",
      "60000/60000 [==============================] - 1s 13us/step - loss: 0.0151 - accuracy: 0.9073\n",
      "Epoch 7/10\n",
      "60000/60000 [==============================] - 1s 13us/step - loss: 0.0146 - accuracy: 0.9092\n",
      "Epoch 8/10\n",
      "60000/60000 [==============================] - 1s 13us/step - loss: 0.0143 - accuracy: 0.9112\n",
      "Epoch 9/10\n",
      "60000/60000 [==============================] - 1s 13us/step - loss: 0.0140 - accuracy: 0.9128\n",
      "Epoch 10/10\n",
      "60000/60000 [==============================] - 1s 13us/step - loss: 0.0138 - accuracy: 0.9137\n"
     ]
    },
    {
     "data": {
      "text/plain": [
       "<keras.callbacks.callbacks.History at 0x179733dcf08>"
      ]
     },
     "execution_count": 5,
     "metadata": {},
     "output_type": "execute_result"
    }
   ],
   "source": [
    "# 训练模型\n",
    "# batch_size: 每个batch中32张图片 \n",
    "# epochs:迭代周期\n",
    "# 模型中有60000张图片，每次会拿到32张进行训练，共训练60000/32次，这是一个周期\n",
    "model.fit(x_train, y_train, batch_size=32, epochs=10) # 60000/32次 训练周期"
   ]
  },
  {
   "cell_type": "code",
   "execution_count": 6,
   "id": "62c723c0",
   "metadata": {},
   "outputs": [
    {
     "name": "stdout",
     "output_type": "stream",
     "text": [
      "10000/10000 [==============================] - 0s 8us/step\n",
      "\n",
      "test loss:  0.013076572533836588\n",
      "accuracy:  0.9174000024795532\n"
     ]
    }
   ],
   "source": [
    "# 评估模型\n",
    "loss, accuracy = model.evaluate(x_test, y_test)\n",
    "print('\\ntest loss: ', loss)\n",
    "print('accuracy: ', accuracy)"
   ]
  },
  {
   "cell_type": "code",
   "execution_count": 7,
   "id": "3cc8806a",
   "metadata": {},
   "outputs": [],
   "source": [
    "# 保存模型\n",
    "model.save('model.h5') # HDF5文件   pip install h5py"
   ]
  },
  {
   "cell_type": "markdown",
   "id": "d6578a5b",
   "metadata": {},
   "source": [
    "## 模型载入"
   ]
  },
  {
   "cell_type": "code",
   "execution_count": 9,
   "id": "90dacd5f",
   "metadata": {},
   "outputs": [],
   "source": [
    "# 模型载入\n",
    "from keras.models import load_model"
   ]
  },
  {
   "cell_type": "code",
   "execution_count": 10,
   "id": "92b136f0",
   "metadata": {},
   "outputs": [
    {
     "name": "stdout",
     "output_type": "stream",
     "text": [
      "10000/10000 [==============================] - 0s 9us/step\n",
      "\n",
      "test loss:  0.013076572533836588\n",
      "accuracy:  0.9174000024795532\n"
     ]
    }
   ],
   "source": [
    "# 载入数据 ...\n",
    "\n",
    "\n",
    "# 载入模型: 已经训练过的模型\n",
    "model = load_model('model.h5')\n",
    "\n",
    "# 评估模型\n",
    "loss, accuracy = model.evaluate(x_test, y_test)\n",
    "print('\\ntest loss: ', loss)\n",
    "print('accuracy: ', accuracy)"
   ]
  },
  {
   "cell_type": "code",
   "execution_count": 11,
   "id": "249351df",
   "metadata": {},
   "outputs": [
    {
     "name": "stdout",
     "output_type": "stream",
     "text": [
      "Epoch 1/2\n",
      "60000/60000 [==============================] - 1s 14us/step - loss: 0.0135 - accuracy: 0.9152\n",
      "Epoch 2/2\n",
      "60000/60000 [==============================] - 1s 14us/step - loss: 0.0134 - accuracy: 0.9158\n",
      "10000/10000 [==============================] - 0s 8us/step\n",
      "\n",
      "test loss:  0.01284503540196456\n",
      "accuracy:  0.9185000061988831\n"
     ]
    }
   ],
   "source": [
    "# 对载入的模型重新进行训练\n",
    "model.fit(x_train, y_train, batch_size=32, epochs=2)\n",
    "\n",
    "# 评估模型\n",
    "loss, accuracy = model.evaluate(x_test, y_test)\n",
    "print('\\ntest loss: ', loss)\n",
    "print('accuracy: ', accuracy)"
   ]
  },
  {
   "cell_type": "code",
   "execution_count": 12,
   "id": "9d4c8822",
   "metadata": {},
   "outputs": [
    {
     "name": "stdout",
     "output_type": "stream",
     "text": [
      "{\"class_name\": \"Sequential\", \"config\": {\"name\": \"sequential_1\", \"layers\": [{\"class_name\": \"Dense\", \"config\": {\"name\": \"dense_1\", \"trainable\": true, \"batch_input_shape\": [null, 784], \"dtype\": \"float32\", \"units\": 10, \"activation\": \"softmax\", \"use_bias\": true, \"kernel_initializer\": {\"class_name\": \"VarianceScaling\", \"config\": {\"scale\": 1.0, \"mode\": \"fan_avg\", \"distribution\": \"uniform\", \"seed\": null}}, \"bias_initializer\": {\"class_name\": \"Ones\", \"config\": {}}, \"kernel_regularizer\": null, \"bias_regularizer\": null, \"activity_regularizer\": null, \"kernel_constraint\": null, \"bias_constraint\": null}}]}, \"keras_version\": \"2.3.1\", \"backend\": \"tensorflow\"}\n"
     ]
    }
   ],
   "source": [
    "# 载入模型参数，保存模型参数\n",
    "model.save_weights('model_weights.h5')\n",
    "# model.load_weights('model_weights.h5')\n",
    "\n",
    "# 保存网络结构，载入模型结构\n",
    "from keras.models import model_from_json\n",
    "json_string = model.to_json()\n",
    "model = model_from_json(json_string)\n",
    "print(json_string)"
   ]
  }
 ],
 "metadata": {
  "kernelspec": {
   "display_name": "Python 3 (ipykernel)",
   "language": "python",
   "name": "python3"
  },
  "language_info": {
   "codemirror_mode": {
    "name": "ipython",
    "version": 3
   },
   "file_extension": ".py",
   "mimetype": "text/x-python",
   "name": "python",
   "nbconvert_exporter": "python",
   "pygments_lexer": "ipython3",
   "version": "3.7.13"
  }
 },
 "nbformat": 4,
 "nbformat_minor": 5
}

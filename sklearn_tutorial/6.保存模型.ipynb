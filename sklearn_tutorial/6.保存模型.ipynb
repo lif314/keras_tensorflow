{
 "cells": [
  {
   "cell_type": "code",
   "execution_count": 2,
   "id": "166c741a",
   "metadata": {},
   "outputs": [],
   "source": [
    "from sklearn import svm, datasets"
   ]
  },
  {
   "cell_type": "code",
   "execution_count": 5,
   "id": "5efdf39c",
   "metadata": {},
   "outputs": [
    {
     "data": {
      "text/plain": [
       "SVC()"
      ]
     },
     "execution_count": 5,
     "metadata": {},
     "output_type": "execute_result"
    }
   ],
   "source": [
    "# 分类\n",
    "clf = svm.SVC()\n",
    "iris = datasets.load_iris()\n",
    "\n",
    "X,y = iris.data, iris.target\n",
    "\n",
    "clf.fit(X,y)"
   ]
  },
  {
   "cell_type": "code",
   "execution_count": 12,
   "id": "81ad2fba",
   "metadata": {},
   "outputs": [],
   "source": [
    "# 保存模型 \n",
    "# pickle 存放数据\n",
    "import pickle\n",
    "# 需要指明编码\n",
    "with open('./save/clf.pickle', 'wb') as f:  \n",
    "    pickle.dump(clf, f)  # 将模型导入到文件f中"
   ]
  },
  {
   "cell_type": "code",
   "execution_count": 15,
   "id": "c3b7fb7c",
   "metadata": {},
   "outputs": [],
   "source": [
    "# 加载模型\n",
    "with open('./save/clf.pickle', 'rb') as f:\n",
    "       model = pickle.load(f)"
   ]
  },
  {
   "cell_type": "code",
   "execution_count": 16,
   "id": "e3a80c66",
   "metadata": {},
   "outputs": [
    {
     "name": "stdout",
     "output_type": "stream",
     "text": [
      "[0]\n"
     ]
    }
   ],
   "source": [
    "print(model.predict(X[0:1]))  # 预测0类的花"
   ]
  },
  {
   "cell_type": "code",
   "execution_count": 19,
   "id": "89d6d6b9",
   "metadata": {},
   "outputs": [],
   "source": [
    "# 使用joblib模块  sklearn顺带下载的\n",
    "import joblib"
   ]
  },
  {
   "cell_type": "code",
   "execution_count": 20,
   "id": "0c9d4be3",
   "metadata": {},
   "outputs": [
    {
     "data": {
      "text/plain": [
       "['./save/model.pkl']"
      ]
     },
     "execution_count": 20,
     "metadata": {},
     "output_type": "execute_result"
    }
   ],
   "source": [
    "# save\n",
    "joblib.dump(model, './save/model.pkl')"
   ]
  },
  {
   "cell_type": "code",
   "execution_count": 21,
   "id": "00261d5b",
   "metadata": {},
   "outputs": [
    {
     "name": "stdout",
     "output_type": "stream",
     "text": [
      "[0]\n"
     ]
    }
   ],
   "source": [
    "# restore\n",
    "clf1 = joblib.load('./save/model.pkl')\n",
    "print(clf1.predict(X[0:1]))  # 预测0类的花"
   ]
  }
 ],
 "metadata": {
  "kernelspec": {
   "display_name": "Python 3 (ipykernel)",
   "language": "python",
   "name": "python3"
  },
  "language_info": {
   "codemirror_mode": {
    "name": "ipython",
    "version": 3
   },
   "file_extension": ".py",
   "mimetype": "text/x-python",
   "name": "python",
   "nbconvert_exporter": "python",
   "pygments_lexer": "ipython3",
   "version": "3.7.13"
  }
 },
 "nbformat": 4,
 "nbformat_minor": 5
}
